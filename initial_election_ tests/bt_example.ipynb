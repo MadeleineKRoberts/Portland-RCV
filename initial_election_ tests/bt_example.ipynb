{
 "cells": [
  {
   "cell_type": "code",
   "execution_count": 7,
   "metadata": {},
   "outputs": [
    {
     "name": "stdout",
     "output_type": "stream",
     "text": [
      "PreferenceProfile too long, only showing 15 out of 532 rows.\n"
     ]
    },
    {
     "data": {
      "text/plain": [
       "                         Ballots Weight\n",
       "(C2, W3, W5, W1, C1, W4, W2, C3)     12\n",
       "(W3, C2, W5, C1, W1, W4, W2, C3)     12\n",
       "(W3, W5, C2, W1, C1, W4, W2, C3)     10\n",
       "(W3, W5, C2, W1, W4, C1, W2, C3)     10\n",
       "(C2, W3, W5, C1, W1, W4, W2, C3)      8\n",
       "(C2, W3, W1, W5, C1, W4, W2, C3)      8\n",
       "(W3, W5, W1, C2, W4, C1, W2, C3)      8\n",
       "(W3, W5, C2, W4, W1, C1, W2, C3)      8\n",
       "(W3, W5, C2, C1, W1, W4, W2, C3)      8\n",
       "(W3, C2, W5, W1, C1, W2, W4, C3)      7\n",
       "(W3, W5, C2, C1, W1, W2, W4, C3)      7\n",
       "(C2, W1, W3, W5, C1, W4, W2, C3)      7\n",
       "(W3, W5, W1, C2, C1, W4, W2, C3)      7\n",
       "(W5, W3, C2, W1, W4, C1, W2, C3)      7\n",
       "(W3, C2, W5, W4, W1, C1, W2, C3)      7"
      ]
     },
     "execution_count": 7,
     "metadata": {},
     "output_type": "execute_result"
    }
   ],
   "source": [
    "## votekit version\n",
    "from votekit import BradleyTerry\n",
    "\n",
    "test_bt = BradleyTerry.from_params(slate_to_candidates={'W': ['W1', 'W2', 'W3', 'W4', 'W5'], 'C': ['C1', 'C2', 'C3']},\n",
    "                            bloc_voter_prop={'W': 1, 'C': 0},\n",
    "                            cohesion={'W': 0.7, 'C': 0.8},\n",
    "                            alphas={'W': {'C': 1.0, 'W': 1.0}, 'C': {'W': 1.0, 'C': 0.5}})\n",
    "test_bt.generate_profile(1000)"
   ]
  },
  {
   "cell_type": "code",
   "execution_count": 8,
   "metadata": {},
   "outputs": [
    {
     "name": "stdout",
     "output_type": "stream",
     "text": [
      "PreferenceProfile too long, only showing 15 out of 441 rows.\n"
     ]
    },
    {
     "data": {
      "text/plain": [
       "                         Ballots Weight\n",
       "(R3, R0, R1, D2, D0, D1, R2, R4)     18\n",
       "(R3, R0, R1, D0, D2, D1, R2, R4)     17\n",
       "(R3, R1, R0, D2, D0, D1, R2, R4)     13\n",
       "(R1, R0, R3, D0, D2, D1, R2, R4)     13\n",
       "(R0, R3, D2, R1, D0, D1, R2, R4)     12\n",
       "(R0, R3, R1, D2, D0, D1, R2, R4)     12\n",
       "(R0, R3, D0, R1, D2, D1, R2, R4)     11\n",
       "(R3, R0, D0, R1, D2, D1, R2, R4)     11\n",
       "(R1, R0, R3, D2, D0, D1, R2, R4)     10\n",
       "(R0, R1, R3, D0, D1, D2, R2, R4)     10\n",
       "(R0, R1, R3, D2, D0, D1, R2, R4)     10\n",
       "(R1, R0, R3, D2, D0, R2, D1, R4)      9\n",
       "(R0, R1, R3, D2, D1, D0, R2, R4)      9\n",
       "(R0, R1, R3, D1, D0, D2, R2, R4)      9\n",
       "(R3, R1, R0, D0, D2, D1, R2, R4)      9"
      ]
     },
     "execution_count": 8,
     "metadata": {},
     "output_type": "execute_result"
    }
   ],
   "source": [
    "## jack's version\n",
    "from simulate.utils import BradleyTerry\n",
    "\n",
    "test_bt = BradleyTerry.from_params(slate_to_candidates={'W': ['W1', 'W2', 'W3', 'W4', 'W5'], 'C': ['C1', 'C2', 'C3']},\n",
    "                            bloc_voter_prop={'W': 1, 'C': 0},\n",
    "                            cohesion={'W': 0.7, 'C': 0.8},\n",
    "                            alphas={'W': {'C': 1.0, 'W': 1.0}, 'C': {'W': 1.0, 'C': 0.5}})\n",
    "\n",
    "test_bt.generate_profile(1000)"
   ]
  }
 ],
 "metadata": {
  "kernelspec": {
   "display_name": "Python 3.9.13 ('base')",
   "language": "python",
   "name": "python3"
  },
  "language_info": {
   "codemirror_mode": {
    "name": "ipython",
    "version": 3
   },
   "file_extension": ".py",
   "mimetype": "text/x-python",
   "name": "python",
   "nbconvert_exporter": "python",
   "pygments_lexer": "ipython3",
   "version": "3.9.13"
  },
  "orig_nbformat": 4,
  "vscode": {
   "interpreter": {
    "hash": "9e24dd9cc808ab50800f409e27684ef1d7d2c09bc61702024ae72f277d93666d"
   }
  }
 },
 "nbformat": 4,
 "nbformat_minor": 2
}
