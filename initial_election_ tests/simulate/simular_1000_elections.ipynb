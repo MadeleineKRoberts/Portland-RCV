{
 "cells": [
  {
   "cell_type": "code",
   "execution_count": 1,
   "metadata": {},
   "outputs": [],
   "source": [
    "from etools import simulate_ensembles\n",
    "import json\n",
    "import random\n",
    "import os"
   ]
  },
  {
   "cell_type": "code",
   "execution_count": 32,
   "metadata": {},
   "outputs": [],
   "source": [
    "import matplotlib.pyplot as plt\n",
    "import numpy as np\n",
    "import os \n",
    "ballot_generators = {\n",
    "    \"bt\": \"Bradley Terry\",\n",
    "    \"pl\": \"Plackett Luce\",\n",
    "    \"cs\": \"Cambridge Sampler\",\n",
    "    #\"ac\": AlternatingCrossover,\n",
    "}\n",
    "\n",
    "def generate_histogram(data, election_type, simulation_type, params):\n",
    "    unique_values, counts = np.unique(data, return_counts=True)\n",
    "\n",
    "    plt.bar(unique_values, counts, align='center', alpha=0.7, width=0.8)\n",
    "\n",
    "    plt.xticks(np.arange(min(unique_values), max(unique_values)+1, 1))  # Set x-axis ticks at distinct whole numbers\n",
    "    plt.xlabel('Number of Elected POC Candidates')\n",
    "    plt.ylabel('Frequency')\n",
    "    plt.title('Histogram for ' + ballot_generators[election_type] + ' model ')\n",
    "    current_directory = os.getcwd()\n",
    "    output_path = os.path.join(current_directory, 'Histograms', f'{election_type}_{simulation_type}_histogram.png')\n",
    "    plt.savefig(output_path)\n",
    "    plt.text(0.05, 0.95, params, transform=plt.gca().transAxes, fontsize=8, verticalalignment='top')\n",
    "    plt.show()"
   ]
  },
  {
   "cell_type": "code",
   "execution_count": 33,
   "metadata": {},
   "outputs": [],
   "source": [
    "# Parameters to change\n",
    "alpha_cc = [0.5, 1, 2]\n",
    "alpha = 1\n",
    "for a in alpha_cc:\n",
    "    num_w = 3\n",
    "    num_c = 3\n",
    "    params = (\n",
    "            \"White candidates: \" + str(num_w) + \";\\n\"\n",
    "            \"POC candidates: \" + str(num_c) + \";\\n\"\n",
    "            \"alpha_CW: \" + str(a)\n",
    "        )\n",
    "    alphas = {\"W\": {\"C\": alpha, \"W\": alpha}, \"C\": {\"W\": alpha, \"C\": a}}\n",
    "    basic_start = simulate_ensembles(\n",
    "        cohesion={\"W\": 0.7, \"C\": 0.8},\n",
    "        num_w=num_w,\n",
    "        num_c=num_c,\n",
    "        seats=3,\n",
    "        num_elections=1000,\n",
    "        alphas=alphas\n",
    "    )\n",
    "    simulation_type = str(num_w) + \"W_\" + str(num_c) + \"C_\" + str(a) + \"CC\"\n",
    "    params = (\n",
    "        \"White candidates: \" + str(num_w) + \";\\n\"\n",
    "        \"POC candidates: \" + str(num_c) + \";\\n\"\n",
    "        \"alpha_CW: \" + str(a)\n",
    "    )\n",
    "    generate_histogram(basic_start['bt'], 'bt', simulation_type, params)\n",
    "    generate_histogram(basic_start['pl'], 'pl', simulation_type, params)\n",
    "    generate_histogram(basic_start['cs'], 'cs', simulation_type, params)\n",
    "\n",
    "    \n"
   ]
  }
 ],
 "metadata": {
  "kernelspec": {
   "display_name": "Python 3",
   "language": "python",
   "name": "python3"
  },
  "language_info": {
   "codemirror_mode": {
    "name": "ipython",
    "version": 3
   },
   "file_extension": ".py",
   "mimetype": "text/x-python",
   "name": "python",
   "nbconvert_exporter": "python",
   "pygments_lexer": "ipython3",
   "version": "3.9.6"
  }
 },
 "nbformat": 4,
 "nbformat_minor": 2
}
