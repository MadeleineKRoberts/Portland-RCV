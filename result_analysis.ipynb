{
 "cells": [
  {
   "cell_type": "code",
   "execution_count": null,
   "metadata": {},
   "outputs": [
    {
     "ename": "",
     "evalue": "",
     "output_type": "error",
     "traceback": [
      "\u001b[1;31mJupyter cannot be started. Error attempting to locate Jupyter: Running cells with '/usr/bin/python3' requires the jupyter and notebook package.\n",
      "\u001b[1;31mRun the following command to install 'jupyter and notebook' into the Python environment. \n",
      "\u001b[1;31mCommand: 'python -m pip install jupyter notebook -U\n",
      "\u001b[1;31mor\n",
      "\u001b[1;31mconda install jupyter notebook -U'\n",
      "\u001b[1;31mClick <a href='https://aka.ms/installJupyterForVSCode'>here</a> for more info."
     ]
    }
   ],
   "source": [
    "!source port_venv/bin/activate\n",
    "import pandas as pd\n",
    "import numpy as np\n",
    "import json\n",
    "\n",
    "file_path = '/Results/zone_1_1000_elections_results.json'\n",
    "\n",
    "with open(file_path, 'r') as file:\n",
    "    data = json.load(file)\n",
    "\n",
    "print(data)\n",
    "\n",
    "def process_simulations(simulations):\n",
    "    # Placeholder for aggregated data\n",
    "    data = []\n",
    "    \n",
    "    for sim in simulations:\n",
    "        for candidate_type, num_candidates in sim[\"candidates\"].items():\n",
    "            for cohesion_type, cohesion_values in sim[\"cohesion\"].items():\n",
    "                avg_result = np.mean(sim[\"results\"])  # Simplified average of results\n",
    "                data.append({\n",
    "                    \"Candidate_Type\": candidate_type,\n",
    "                    \"Number_of_Candidates\": num_candidates,\n",
    "                    \"Cohesion_Type\": cohesion_type,\n",
    "                    \"Average_Result\": avg_result\n",
    "                })\n",
    "    \n",
    "    # Convert aggregated data to DataFrame for analysis\n",
    "    df = pd.DataFrame(data)\n",
    "    \n",
    "    # Create a pivot table with average results\n",
    "    pivot_table = df.pivot_table(index='Cohesion_Type', columns='Number_of_Candidates', values='Average_Result', aggfunc=np.mean)\n",
    "    \n",
    "    return pivot_table\n",
    "\n",
    "# Process the simulations and generate the pairwise table\n",
    "pairwise_table = process_simulations(file_path)\n",
    "pairwise_table"
   ]
  }
 ],
 "metadata": {
  "kernelspec": {
   "display_name": "Python 3",
   "language": "python",
   "name": "python3"
  },
  "language_info": {
   "name": "python",
   "version": "3.9.6"
  }
 },
 "nbformat": 4,
 "nbformat_minor": 2
}
